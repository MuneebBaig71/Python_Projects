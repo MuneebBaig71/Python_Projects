{
 "cells": [
  {
   "cell_type": "code",
   "execution_count": 5,
   "metadata": {},
   "outputs": [
    {
     "name": "stdout",
     "output_type": "stream",
     "text": [
      "20\n",
      "<class 'int'>\n"
     ]
    }
   ],
   "source": [
    "# a = [1,2,3,4,5]\n",
    "# a.insert(4,6)\n",
    "# a\n",
    "# a.pop(4)\n",
    "# a\n",
    "# # fruit = \"apple\"\n",
    "# # for letter in fruit:\n",
    "# #     print(letter)\n",
    "# new_fruit = \"bannana\"\n",
    "# letter = 0\n",
    "# while letter<len(new_fruit):\n",
    "#     print(new_fruit[letter])\n",
    "#     letter += 1\n",
    "age = input(\"Enter your age: \")\n",
    "age = int(age)\n",
    "print(age)\n",
    "print(type(age))"
   ]
  },
  {
   "cell_type": "code",
   "execution_count": 7,
   "metadata": {},
   "outputs": [
    {
     "name": "stdout",
     "output_type": "stream",
     "text": [
      "tensor([[0.0544, 0.1174, 0.9150],\n",
      "        [0.2550, 0.1363, 0.9689],\n",
      "        [0.7493, 0.0195, 0.8250],\n",
      "        [0.4846, 0.6409, 0.2735],\n",
      "        [0.7714, 0.4465, 0.8530]])\n"
     ]
    }
   ],
   "source": [
    "\n",
    "import torch\n",
    "x = torch.rand(5, 3)\n",
    "print(x)"
   ]
  }
 ],
 "metadata": {
  "kernelspec": {
   "display_name": "Python 3",
   "language": "python",
   "name": "python3"
  },
  "language_info": {
   "codemirror_mode": {
    "name": "ipython",
    "version": 3
   },
   "file_extension": ".py",
   "mimetype": "text/x-python",
   "name": "python",
   "nbconvert_exporter": "python",
   "pygments_lexer": "ipython3",
   "version": "3.11.1"
  },
  "orig_nbformat": 4,
  "vscode": {
   "interpreter": {
    "hash": "1f6a27bcfbe46a917dbd192f4a82657396dda26148bae633192e8d28c70725f1"
   }
  }
 },
 "nbformat": 4,
 "nbformat_minor": 2
}
